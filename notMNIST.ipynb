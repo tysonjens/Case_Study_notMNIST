{
 "cells": [
  {
   "cell_type": "markdown",
   "metadata": {},
   "source": [
    "# Case Study nMNIST"
   ]
  },
  {
   "cell_type": "markdown",
   "metadata": {},
   "source": [
    "Christopher Winn, Nei Costa, Tyson Ward"
   ]
  },
  {
   "cell_type": "code",
   "execution_count": 5,
   "metadata": {
    "collapsed": true
   },
   "outputs": [],
   "source": [
    "# imports\n",
    "import numpy as np\n",
    "import skimage.io\n",
    "import matplotlib.pyplot as plt\n",
    "%matplotlib inline\n",
    "import os"
   ]
  },
  {
   "cell_type": "code",
   "execution_count": 26,
   "metadata": {},
   "outputs": [],
   "source": [
    "letter = ['A','B','C','D','E','F','G','H','I','J']\n",
    "X_train = []\n",
    "y_train = []\n",
    "X_test = []\n",
    "y_test = []\n",
    "for i, l in enumerate(letter):\n",
    "    count_letter = 0 \n",
    "    folder = 'notMNIST_small/' + l\n",
    "    files = os.listdir(folder)\n",
    "    for f in files:\n",
    "        path_img = folder + '/' + f\n",
    "        try:\n",
    "            img = skimage.io.imread(str(path_img))\n",
    "        except:\n",
    "            continue\n",
    "        count_letter += 1 \n",
    "        if count_letter % 7 ==0:\n",
    "            X_test.append(img)\n",
    "            y_test.append(i)\n",
    "        else:\n",
    "            X_train.append(img)\n",
    "            y_train.append(i)\n",
    "            \n",
    "X_train = np.array(X_train)\n",
    "X_test = np.array(X_test)\n",
    "y_train = np.array(y_train)\n",
    "y_test = np.array(y_test)"
   ]
  },
  {
   "cell_type": "code",
   "execution_count": 23,
   "metadata": {},
   "outputs": [
    {
     "data": {
      "image/png": "[encoded data removed]",
      "text/plain": [
       "<Figure size 648x288 with 1 Axes>"
      ]
     },
     "metadata": {},
     "output_type": "display_data"
    }
   ],
   "source": [
    "fig, ax = plt.subplots(nrows=1, ncols=1, figsize=(9, 4))\n",
    "ax.imshow(X_train[1000]);"
   ]
  },
  {
   "cell_type": "code",
   "execution_count": 29,
   "metadata": {},
   "outputs": [
    {
     "name": "stdout",
     "output_type": "stream",
     "text": [
      "Nº Train X: (16054, 28, 28)\n",
      "Nº Train y: (16054,)\n",
      "Nº Test X: (2670, 28, 28)\n",
      "Nº Test y: (2670,)\n",
      "% Test part: 14.26%\n"
     ]
    }
   ],
   "source": [
    "print('Nº Train X: {0}'.format(X_train.shape))\n",
    "print('Nº Train y: {0}'.format(y_train.shape))\n",
    "print('Nº Test X: {0}'.format(X_test.shape))\n",
    "print('Nº Test y: {0}'.format(y_test.shape))\n",
    "print('% Test part: {0:0.2%}'.format(len(y_test)/(len(y_train)+len(y_test))))"
   ]
  },
  {
   "cell_type": "code",
   "execution_count": null,
   "metadata": {
    "collapsed": true
   },
   "outputs": [],
   "source": []
  }
 ],
 "metadata": {
  "kernelspec": {
   "display_name": "Python 3",
   "language": "python",
   "name": "python3"
  },
  "language_info": {
   "codemirror_mode": {
    "name": "ipython",
    "version": 3
   },
   "file_extension": ".py",
   "mimetype": "text/x-python",
   "name": "python",
   "nbconvert_exporter": "python",
   "pygments_lexer": "ipython3",
   "version": "3.6.4"
  }
 },
 "nbformat": 4,
 "nbformat_minor": 2
}
